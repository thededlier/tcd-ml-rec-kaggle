{
 "cells": [
  {
   "cell_type": "code",
   "execution_count": 133,
   "metadata": {},
   "outputs": [
    {
     "data": {
      "text/plain": [
       "['tcdml1920-rec-click-pred--submission file (example).csv',\n",
       " 'tcdml1920-rec-click-pred--submission file.csv',\n",
       " 'tcdml1920-rec-click-pred--test.csv',\n",
       " 'tcdml1920-rec-click-pred--training.csv']"
      ]
     },
     "execution_count": 133,
     "metadata": {},
     "output_type": "execute_result"
    }
   ],
   "source": [
    "import pandas as pd\n",
    "import numpy as np\n",
    "import seaborn as sns\n",
    "import os\n",
    "\n",
    "os.listdir('../input/tcd-ml-comp-201920-rec-alg-click-pred-group')"
   ]
  },
  {
   "cell_type": "code",
   "execution_count": 162,
   "metadata": {},
   "outputs": [
    {
     "name": "stderr",
     "output_type": "stream",
     "text": [
      "C:\\ProgramData\\Anaconda3\\lib\\site-packages\\IPython\\core\\interactiveshell.py:3057: DtypeWarning: Columns (4,5,34) have mixed types. Specify dtype option on import or set low_memory=False.\n",
      "  interactivity=interactivity, compiler=compiler, result=result)\n"
     ]
    }
   ],
   "source": [
    "train = pd.read_csv('../input/tcd-ml-comp-201920-rec-alg-click-pred-group/tcdml1920-rec-click-pred--training.csv') \n",
    "test = pd.read_csv('../input/tcd-ml-comp-201920-rec-alg-click-pred-group/tcdml1920-rec-click-pred--test.csv')\n",
    "test = test.dropna(subset=['recommendation_set_id'])"
   ]
  },
  {
   "cell_type": "code",
   "execution_count": 135,
   "metadata": {},
   "outputs": [
    {
     "data": {
      "text/plain": [
       "(9145, 46)"
      ]
     },
     "execution_count": 135,
     "metadata": {},
     "output_type": "execute_result"
    }
   ],
   "source": [
    "test.shape"
   ]
  },
  {
   "cell_type": "code",
   "execution_count": 106,
   "metadata": {},
   "outputs": [
    {
     "name": "stdout",
     "output_type": "stream",
     "text": [
      "Shape (385687, 46) \n",
      "\n",
      "Columns \n",
      " Index(['recommendation_set_id', 'user_id', 'session_id', 'query_identifier',\n",
      "       'query_word_count', 'query_char_count', 'query_detected_language',\n",
      "       'query_document_id', 'document_language_provided', 'year_published',\n",
      "       'number_of_authors', 'abstract_word_count', 'abstract_char_count',\n",
      "       'abstract_detected_language', 'first_author_id',\n",
      "       'num_pubs_by_first_author', 'organization_id', 'application_type',\n",
      "       'item_type', 'request_received', 'hour_request_received',\n",
      "       'response_delivered', 'rec_processing_time', 'app_version', 'app_lang',\n",
      "       'user_os', 'user_os_version', 'user_java_version', 'user_timezone',\n",
      "       'country_by_ip', 'timezone_by_ip', 'local_time_of_request',\n",
      "       'local_hour_of_request', 'number_of_recs_in_set',\n",
      "       'recommendation_algorithm_id_used', 'algorithm_class', 'cbf_parser',\n",
      "       'search_title', 'search_keywords', 'search_abstract',\n",
      "       'time_recs_recieved', 'time_recs_displayed', 'time_recs_viewed',\n",
      "       'clicks', 'ctr', 'set_clicked'],\n",
      "      dtype='object') \n",
      "\n"
     ]
    }
   ],
   "source": [
    "print('Shape', train.shape, '\\n')\n",
    "print('Columns \\n', train.columns, '\\n')"
   ]
  },
  {
   "cell_type": "code",
   "execution_count": 107,
   "metadata": {},
   "outputs": [
    {
     "data": {
      "text/html": [
       "<div>\n",
       "<style scoped>\n",
       "    .dataframe tbody tr th:only-of-type {\n",
       "        vertical-align: middle;\n",
       "    }\n",
       "\n",
       "    .dataframe tbody tr th {\n",
       "        vertical-align: top;\n",
       "    }\n",
       "\n",
       "    .dataframe thead th {\n",
       "        text-align: right;\n",
       "    }\n",
       "</style>\n",
       "<table border=\"1\" class=\"dataframe\">\n",
       "  <thead>\n",
       "    <tr style=\"text-align: right;\">\n",
       "      <th></th>\n",
       "      <th>request_received</th>\n",
       "      <th>response_delivered</th>\n",
       "      <th>rec_processing_time</th>\n",
       "    </tr>\n",
       "  </thead>\n",
       "  <tbody>\n",
       "    <tr>\n",
       "      <th>43407</th>\n",
       "      <td>23/01/2019 14:21</td>\n",
       "      <td>23/01/2019 14:56</td>\n",
       "      <td>2042.4700</td>\n",
       "    </tr>\n",
       "    <tr>\n",
       "      <th>63120</th>\n",
       "      <td>14/02/2019 12:16</td>\n",
       "      <td>14/02/2019 12:20</td>\n",
       "      <td>216.3300</td>\n",
       "    </tr>\n",
       "    <tr>\n",
       "      <th>73384</th>\n",
       "      <td>25/02/2019 18:03</td>\n",
       "      <td>25/02/2019 18:04</td>\n",
       "      <td>66.3469</td>\n",
       "    </tr>\n",
       "    <tr>\n",
       "      <th>74911</th>\n",
       "      <td>27/02/2019 03:57</td>\n",
       "      <td>27/02/2019 08:39</td>\n",
       "      <td>16930.6000</td>\n",
       "    </tr>\n",
       "    <tr>\n",
       "      <th>94649</th>\n",
       "      <td>19/03/2019 11:56</td>\n",
       "      <td>19/03/2019 12:00</td>\n",
       "      <td>226.9120</td>\n",
       "    </tr>\n",
       "    <tr>\n",
       "      <th>97366</th>\n",
       "      <td>21/03/2019 20:48</td>\n",
       "      <td>21/03/2019 22:03</td>\n",
       "      <td>4478.8100</td>\n",
       "    </tr>\n",
       "    <tr>\n",
       "      <th>101097</th>\n",
       "      <td>26/03/2019 01:51</td>\n",
       "      <td>26/03/2019 06:35</td>\n",
       "      <td>17064.4000</td>\n",
       "    </tr>\n",
       "    <tr>\n",
       "      <th>112088</th>\n",
       "      <td>06/04/2019 20:24</td>\n",
       "      <td>07/04/2019 01:08</td>\n",
       "      <td>16990.9000</td>\n",
       "    </tr>\n",
       "    <tr>\n",
       "      <th>122277</th>\n",
       "      <td>17/04/2019 09:01</td>\n",
       "      <td>17/04/2019 09:02</td>\n",
       "      <td>102.3070</td>\n",
       "    </tr>\n",
       "    <tr>\n",
       "      <th>126501</th>\n",
       "      <td>23/04/2019 03:15</td>\n",
       "      <td>23/04/2019 03:16</td>\n",
       "      <td>69.2949</td>\n",
       "    </tr>\n",
       "    <tr>\n",
       "      <th>129726</th>\n",
       "      <td>25/04/2019 20:24</td>\n",
       "      <td>26/04/2019 01:02</td>\n",
       "      <td>16728.8000</td>\n",
       "    </tr>\n",
       "    <tr>\n",
       "      <th>143921</th>\n",
       "      <td>11/05/2019 16:11</td>\n",
       "      <td>11/05/2019 16:16</td>\n",
       "      <td>316.8560</td>\n",
       "    </tr>\n",
       "    <tr>\n",
       "      <th>157268</th>\n",
       "      <td>26/05/2019 10:08</td>\n",
       "      <td>26/05/2019 10:10</td>\n",
       "      <td>111.1920</td>\n",
       "    </tr>\n",
       "    <tr>\n",
       "      <th>161586</th>\n",
       "      <td>30/05/2019 16:30</td>\n",
       "      <td>30/05/2019 16:31</td>\n",
       "      <td>65.0060</td>\n",
       "    </tr>\n",
       "    <tr>\n",
       "      <th>162776</th>\n",
       "      <td>01/06/2019 07:26</td>\n",
       "      <td>01/06/2019 07:28</td>\n",
       "      <td>118.0330</td>\n",
       "    </tr>\n",
       "    <tr>\n",
       "      <th>170432</th>\n",
       "      <td>10/06/2019 11:08</td>\n",
       "      <td>10/06/2019 11:11</td>\n",
       "      <td>146.0750</td>\n",
       "    </tr>\n",
       "    <tr>\n",
       "      <th>177723</th>\n",
       "      <td>18/06/2019 15:49</td>\n",
       "      <td>18/06/2019 15:56</td>\n",
       "      <td>385.3960</td>\n",
       "    </tr>\n",
       "    <tr>\n",
       "      <th>250615</th>\n",
       "      <td>10/07/2019 02:33</td>\n",
       "      <td>10/07/2019 07:15</td>\n",
       "      <td>16921.4000</td>\n",
       "    </tr>\n",
       "    <tr>\n",
       "      <th>287865</th>\n",
       "      <td>07/08/2019 16:05</td>\n",
       "      <td>07/08/2019 16:06</td>\n",
       "      <td>60.0136</td>\n",
       "    </tr>\n",
       "    <tr>\n",
       "      <th>381926</th>\n",
       "      <td>11/10/2019 15:16</td>\n",
       "      <td>11/10/2019 15:17</td>\n",
       "      <td>62.3639</td>\n",
       "    </tr>\n",
       "  </tbody>\n",
       "</table>\n",
       "</div>"
      ],
      "text/plain": [
       "        request_received response_delivered  rec_processing_time\n",
       "43407   23/01/2019 14:21   23/01/2019 14:56            2042.4700\n",
       "63120   14/02/2019 12:16   14/02/2019 12:20             216.3300\n",
       "73384   25/02/2019 18:03   25/02/2019 18:04              66.3469\n",
       "74911   27/02/2019 03:57   27/02/2019 08:39           16930.6000\n",
       "94649   19/03/2019 11:56   19/03/2019 12:00             226.9120\n",
       "97366   21/03/2019 20:48   21/03/2019 22:03            4478.8100\n",
       "101097  26/03/2019 01:51   26/03/2019 06:35           17064.4000\n",
       "112088  06/04/2019 20:24   07/04/2019 01:08           16990.9000\n",
       "122277  17/04/2019 09:01   17/04/2019 09:02             102.3070\n",
       "126501  23/04/2019 03:15   23/04/2019 03:16              69.2949\n",
       "129726  25/04/2019 20:24   26/04/2019 01:02           16728.8000\n",
       "143921  11/05/2019 16:11   11/05/2019 16:16             316.8560\n",
       "157268  26/05/2019 10:08   26/05/2019 10:10             111.1920\n",
       "161586  30/05/2019 16:30   30/05/2019 16:31              65.0060\n",
       "162776  01/06/2019 07:26   01/06/2019 07:28             118.0330\n",
       "170432  10/06/2019 11:08   10/06/2019 11:11             146.0750\n",
       "177723  18/06/2019 15:49   18/06/2019 15:56             385.3960\n",
       "250615  10/07/2019 02:33   10/07/2019 07:15           16921.4000\n",
       "287865  07/08/2019 16:05   07/08/2019 16:06              60.0136\n",
       "381926  11/10/2019 15:16   11/10/2019 15:17              62.3639"
      ]
     },
     "execution_count": 107,
     "metadata": {},
     "output_type": "execute_result"
    }
   ],
   "source": [
    "train.loc[train['rec_processing_time'] > 60][['request_received', 'response_delivered', 'rec_processing_time']]"
   ]
  },
  {
   "cell_type": "code",
   "execution_count": null,
   "metadata": {},
   "outputs": [],
   "source": [
    "train.loc[train['time_recs_viewed'] != \"\\\\N\"][['time_recs_recieved', 'time_recs_displayed', 'time_recs_viewed']].head()"
   ]
  },
  {
   "cell_type": "code",
   "execution_count": null,
   "metadata": {},
   "outputs": [],
   "source": [
    "# train['time_recs_recieved'] = pd.to_datetime(train['time_recs_recieved'])\n",
    "# train['time_recs_displayed'] = pd.to_datetime(train['time_recs_displayed'])\n",
    "# train['time_recs_viewed'] = pd.to_datetime(train['time_recs_viewed'])"
   ]
  },
  {
   "cell_type": "code",
   "execution_count": 164,
   "metadata": {},
   "outputs": [
    {
     "data": {
      "text/html": [
       "<div>\n",
       "<style scoped>\n",
       "    .dataframe tbody tr th:only-of-type {\n",
       "        vertical-align: middle;\n",
       "    }\n",
       "\n",
       "    .dataframe tbody tr th {\n",
       "        vertical-align: top;\n",
       "    }\n",
       "\n",
       "    .dataframe thead th {\n",
       "        text-align: right;\n",
       "    }\n",
       "</style>\n",
       "<table border=\"1\" class=\"dataframe\">\n",
       "  <thead>\n",
       "    <tr style=\"text-align: right;\">\n",
       "      <th></th>\n",
       "      <th>recommendation_set_id</th>\n",
       "      <th>user_id</th>\n",
       "      <th>session_id</th>\n",
       "      <th>query_identifier</th>\n",
       "      <th>query_word_count</th>\n",
       "      <th>query_char_count</th>\n",
       "      <th>query_detected_language</th>\n",
       "      <th>query_document_id</th>\n",
       "      <th>document_language_provided</th>\n",
       "      <th>year_published</th>\n",
       "      <th>...</th>\n",
       "      <th>cbf_parser</th>\n",
       "      <th>search_title</th>\n",
       "      <th>search_keywords</th>\n",
       "      <th>search_abstract</th>\n",
       "      <th>time_recs_recieved</th>\n",
       "      <th>time_recs_displayed</th>\n",
       "      <th>time_recs_viewed</th>\n",
       "      <th>clicks</th>\n",
       "      <th>ctr</th>\n",
       "      <th>set_clicked</th>\n",
       "    </tr>\n",
       "  </thead>\n",
       "  <tbody>\n",
       "    <tr>\n",
       "      <th>0</th>\n",
       "      <td>46914.0</td>\n",
       "      <td>\\N</td>\n",
       "      <td>\\N</td>\n",
       "      <td>Withheld for privacy</td>\n",
       "      <td>18</td>\n",
       "      <td>126</td>\n",
       "      <td>en</td>\n",
       "      <td>\\N</td>\n",
       "      <td>\\N</td>\n",
       "      <td>\\N</td>\n",
       "      <td>...</td>\n",
       "      <td>standard_QP</td>\n",
       "      <td>yes</td>\n",
       "      <td>no</td>\n",
       "      <td>no</td>\n",
       "      <td>nA</td>\n",
       "      <td>nA</td>\n",
       "      <td>nA</td>\n",
       "      <td>nA</td>\n",
       "      <td>nA</td>\n",
       "      <td>NaN</td>\n",
       "    </tr>\n",
       "    <tr>\n",
       "      <th>1</th>\n",
       "      <td>46961.0</td>\n",
       "      <td>\\N</td>\n",
       "      <td>\\N</td>\n",
       "      <td>Withheld for privacy</td>\n",
       "      <td>5</td>\n",
       "      <td>60</td>\n",
       "      <td>en</td>\n",
       "      <td>\\N</td>\n",
       "      <td>\\N</td>\n",
       "      <td>\\N</td>\n",
       "      <td>...</td>\n",
       "      <td>standard_QP</td>\n",
       "      <td>yes</td>\n",
       "      <td>no</td>\n",
       "      <td>no</td>\n",
       "      <td>nA</td>\n",
       "      <td>nA</td>\n",
       "      <td>nA</td>\n",
       "      <td>nA</td>\n",
       "      <td>nA</td>\n",
       "      <td>NaN</td>\n",
       "    </tr>\n",
       "    <tr>\n",
       "      <th>2</th>\n",
       "      <td>47012.0</td>\n",
       "      <td>\\N</td>\n",
       "      <td>\\N</td>\n",
       "      <td>Withheld for privacy</td>\n",
       "      <td>8</td>\n",
       "      <td>54</td>\n",
       "      <td>en</td>\n",
       "      <td>\\N</td>\n",
       "      <td>\\N</td>\n",
       "      <td>\\N</td>\n",
       "      <td>...</td>\n",
       "      <td>edismax_QP</td>\n",
       "      <td>yes</td>\n",
       "      <td>yes</td>\n",
       "      <td>no</td>\n",
       "      <td>nA</td>\n",
       "      <td>nA</td>\n",
       "      <td>nA</td>\n",
       "      <td>nA</td>\n",
       "      <td>nA</td>\n",
       "      <td>NaN</td>\n",
       "    </tr>\n",
       "    <tr>\n",
       "      <th>3</th>\n",
       "      <td>47181.0</td>\n",
       "      <td>\\N</td>\n",
       "      <td>\\N</td>\n",
       "      <td>Withheld for privacy</td>\n",
       "      <td>9</td>\n",
       "      <td>59</td>\n",
       "      <td>en</td>\n",
       "      <td>11559885</td>\n",
       "      <td>\\N</td>\n",
       "      <td>2017</td>\n",
       "      <td>...</td>\n",
       "      <td>standard_QP</td>\n",
       "      <td>yes</td>\n",
       "      <td>no</td>\n",
       "      <td>no</td>\n",
       "      <td>nA</td>\n",
       "      <td>nA</td>\n",
       "      <td>nA</td>\n",
       "      <td>nA</td>\n",
       "      <td>nA</td>\n",
       "      <td>NaN</td>\n",
       "    </tr>\n",
       "    <tr>\n",
       "      <th>4</th>\n",
       "      <td>47240.0</td>\n",
       "      <td>\\N</td>\n",
       "      <td>\\N</td>\n",
       "      <td>Withheld for privacy</td>\n",
       "      <td>10</td>\n",
       "      <td>81</td>\n",
       "      <td>en</td>\n",
       "      <td>\\N</td>\n",
       "      <td>\\N</td>\n",
       "      <td>\\N</td>\n",
       "      <td>...</td>\n",
       "      <td>standard_QP</td>\n",
       "      <td>yes</td>\n",
       "      <td>no</td>\n",
       "      <td>no</td>\n",
       "      <td>nA</td>\n",
       "      <td>nA</td>\n",
       "      <td>nA</td>\n",
       "      <td>nA</td>\n",
       "      <td>nA</td>\n",
       "      <td>NaN</td>\n",
       "    </tr>\n",
       "  </tbody>\n",
       "</table>\n",
       "<p>5 rows × 46 columns</p>\n",
       "</div>"
      ],
      "text/plain": [
       "   recommendation_set_id user_id session_id      query_identifier  \\\n",
       "0                46914.0      \\N         \\N  Withheld for privacy   \n",
       "1                46961.0      \\N         \\N  Withheld for privacy   \n",
       "2                47012.0      \\N         \\N  Withheld for privacy   \n",
       "3                47181.0      \\N         \\N  Withheld for privacy   \n",
       "4                47240.0      \\N         \\N  Withheld for privacy   \n",
       "\n",
       "  query_word_count query_char_count query_detected_language query_document_id  \\\n",
       "0               18              126                      en                \\N   \n",
       "1                5               60                      en                \\N   \n",
       "2                8               54                      en                \\N   \n",
       "3                9               59                      en          11559885   \n",
       "4               10               81                      en                \\N   \n",
       "\n",
       "  document_language_provided year_published  ...   cbf_parser search_title  \\\n",
       "0                         \\N             \\N  ...  standard_QP          yes   \n",
       "1                         \\N             \\N  ...  standard_QP          yes   \n",
       "2                         \\N             \\N  ...   edismax_QP          yes   \n",
       "3                         \\N           2017  ...  standard_QP          yes   \n",
       "4                         \\N             \\N  ...  standard_QP          yes   \n",
       "\n",
       "  search_keywords search_abstract time_recs_recieved time_recs_displayed  \\\n",
       "0              no              no                 nA                  nA   \n",
       "1              no              no                 nA                  nA   \n",
       "2             yes              no                 nA                  nA   \n",
       "3              no              no                 nA                  nA   \n",
       "4              no              no                 nA                  nA   \n",
       "\n",
       "   time_recs_viewed clicks ctr set_clicked  \n",
       "0                nA     nA  nA         NaN  \n",
       "1                nA     nA  nA         NaN  \n",
       "2                nA     nA  nA         NaN  \n",
       "3                nA     nA  nA         NaN  \n",
       "4                nA     nA  nA         NaN  \n",
       "\n",
       "[5 rows x 46 columns]"
      ]
     },
     "execution_count": 164,
     "metadata": {},
     "output_type": "execute_result"
    }
   ],
   "source": [
    "test.head()"
   ]
  },
  {
   "cell_type": "code",
   "execution_count": 163,
   "metadata": {},
   "outputs": [
    {
     "data": {
      "text/plain": [
       "<matplotlib.axes._subplots.AxesSubplot at 0x23a1fcd4160>"
      ]
     },
     "execution_count": 163,
     "metadata": {},
     "output_type": "execute_result"
    },
    {
     "data": {
      "image/png": "[encoded data removed]",
      "text/plain": [
       "<Figure size 432x288 with 2 Axes>"
      ]
     },
     "metadata": {
      "needs_background": "light"
     },
     "output_type": "display_data"
    }
   ],
   "source": [
    "corrmat = train.corr()\n",
    "sns.heatmap(corrmat)"
   ]
  },
  {
   "cell_type": "code",
   "execution_count": null,
   "metadata": {},
   "outputs": [],
   "source": [
    "corrmat.sort_values(['set_clicked'], ascending = False, inplace = True)\n",
    "print(corrmat['set_clicked'])"
   ]
  },
  {
   "cell_type": "code",
   "execution_count": 24,
   "metadata": {},
   "outputs": [],
   "source": [
    "#This function takes a DataFrame(df) as input and returns two columns, total missing values and total missing values percentage\n",
    "def missing_percentage(df):\n",
    "    total = df.isnull().sum().sort_values(ascending = False)[df.isnull().sum().sort_values(ascending = False) != 0]\n",
    "    percent = round(df.isnull().sum().sort_values(ascending = False) / len(df) * 100, 2)[round(df.isnull().sum().sort_values(ascending = False) / len(df) * 100, 2) != 0]\n",
    "    return pd.concat([total, percent], axis = 1, keys=['Total', 'Percent'])"
   ]
  },
  {
   "cell_type": "code",
   "execution_count": 27,
   "metadata": {},
   "outputs": [
    {
     "data": {
      "text/html": [
       "<div>\n",
       "<style scoped>\n",
       "    .dataframe tbody tr th:only-of-type {\n",
       "        vertical-align: middle;\n",
       "    }\n",
       "\n",
       "    .dataframe tbody tr th {\n",
       "        vertical-align: top;\n",
       "    }\n",
       "\n",
       "    .dataframe thead th {\n",
       "        text-align: right;\n",
       "    }\n",
       "</style>\n",
       "<table border=\"1\" class=\"dataframe\">\n",
       "  <thead>\n",
       "    <tr style=\"text-align: right;\">\n",
       "      <th></th>\n",
       "      <th>Total</th>\n",
       "      <th>Percent</th>\n",
       "    </tr>\n",
       "  </thead>\n",
       "  <tbody>\n",
       "  </tbody>\n",
       "</table>\n",
       "</div>"
      ],
      "text/plain": [
       "Empty DataFrame\n",
       "Columns: [Total, Percent]\n",
       "Index: []"
      ]
     },
     "execution_count": 27,
     "metadata": {},
     "output_type": "execute_result"
    }
   ],
   "source": [
    "missing_percentage(train)"
   ]
  },
  {
   "cell_type": "code",
   "execution_count": null,
   "metadata": {},
   "outputs": [],
   "source": [
    "train['query_identifier'].describe()"
   ]
  },
  {
   "cell_type": "code",
   "execution_count": null,
   "metadata": {},
   "outputs": [],
   "source": [
    "train['query_detected_language'].unique()"
   ]
  },
  {
   "cell_type": "code",
   "execution_count": null,
   "metadata": {},
   "outputs": [],
   "source": [
    "train['user_timezone'].describe()"
   ]
  },
  {
   "cell_type": "code",
   "execution_count": null,
   "metadata": {},
   "outputs": [],
   "source": [
    "train['user_java_version'].describe()"
   ]
  },
  {
   "cell_type": "code",
   "execution_count": null,
   "metadata": {},
   "outputs": [],
   "source": [
    "train['country_by_ip'].describe()"
   ]
  },
  {
   "cell_type": "code",
   "execution_count": null,
   "metadata": {},
   "outputs": [],
   "source": [
    "train['country_by_ip'].value_counts()"
   ]
  },
  {
   "cell_type": "code",
   "execution_count": null,
   "metadata": {},
   "outputs": [],
   "source": [
    "train['cbf_parser'].value_counts()"
   ]
  },
  {
   "cell_type": "code",
   "execution_count": null,
   "metadata": {},
   "outputs": [],
   "source": [
    "train['num_pubs_by_first_author'].describe()"
   ]
  },
  {
   "cell_type": "code",
   "execution_count": null,
   "metadata": {},
   "outputs": [],
   "source": [
    "train['local_time_of_request'].describe()"
   ]
  },
  {
   "cell_type": "code",
   "execution_count": null,
   "metadata": {},
   "outputs": [],
   "source": [
    "train['recommendation_algorithm_id_used'].value_counts().plot(kind='bar',\n",
    "                                    figsize=(14,8),\n",
    "                                    title=\"Recommendation algorithms count\")"
   ]
  },
  {
   "cell_type": "code",
   "execution_count": null,
   "metadata": {},
   "outputs": [],
   "source": [
    "train['query_detected_language'].unique()"
   ]
  },
  {
   "cell_type": "code",
   "execution_count": null,
   "metadata": {},
   "outputs": [],
   "source": [
    "train['query_detected_language'].value_counts().plot(kind='bar',\n",
    "                                    figsize=(14,8),\n",
    "                                    title=\"query_detected_language count\")"
   ]
  },
  {
   "cell_type": "code",
   "execution_count": null,
   "metadata": {},
   "outputs": [],
   "source": [
    "train['organization_id'].value_counts().plot(kind='bar',\n",
    "                                            title=\"organization_id count\")"
   ]
  },
  {
   "cell_type": "code",
   "execution_count": null,
   "metadata": {},
   "outputs": [],
   "source": [
    "train.search_title.value_counts()"
   ]
  },
  {
   "cell_type": "code",
   "execution_count": null,
   "metadata": {},
   "outputs": [],
   "source": [
    "train['hour_request_received'].value_counts().plot(kind='bar',\n",
    "                                            title=\"hour_request_received count\")"
   ]
  },
  {
   "cell_type": "code",
   "execution_count": null,
   "metadata": {},
   "outputs": [],
   "source": [
    "train['search_keywords'].value_counts()"
   ]
  },
  {
   "cell_type": "code",
   "execution_count": null,
   "metadata": {},
   "outputs": [],
   "source": [
    "train['local_time_of_request'].describe()"
   ]
  },
  {
   "cell_type": "code",
   "execution_count": null,
   "metadata": {},
   "outputs": [],
   "source": [
    "train['clicks'].value_counts()"
   ]
  },
  {
   "cell_type": "code",
   "execution_count": 33,
   "metadata": {},
   "outputs": [
    {
     "data": {
      "text/plain": [
       "0.0000    378924\n",
       "0.1429      3858\n",
       "0.3333       977\n",
       "0.2857       944\n",
       "0.4286       328\n",
       "0.2000       144\n",
       "0.5714       132\n",
       "1.0000        77\n",
       "0.6667        70\n",
       "0.7143        48\n",
       "0.4000        37\n",
       "0.8571        33\n",
       "0.1667        30\n",
       "0.5000        28\n",
       "0.2500        12\n",
       "0.6000         8\n",
       "1.2000         6\n",
       "1.2857         5\n",
       "1.1429         4\n",
       "1.4286         3\n",
       "0.7500         3\n",
       "1.3333         3\n",
       "1.5714         3\n",
       "2.0000         3\n",
       "0.8000         2\n",
       "2.7143         1\n",
       "2.5000         1\n",
       "2.5714         1\n",
       "1.6667         1\n",
       "1.6000         1\n",
       "Name: ctr, dtype: int64"
      ]
     },
     "execution_count": 33,
     "metadata": {},
     "output_type": "execute_result"
    }
   ],
   "source": [
    "train['ctr'].value_counts()"
   ]
  },
  {
   "cell_type": "markdown",
   "metadata": {},
   "source": [
    "## Transformations"
   ]
  },
  {
   "cell_type": "code",
   "execution_count": 136,
   "metadata": {},
   "outputs": [],
   "source": [
    "# Filtering out data where processing time is more than 60 secs\n",
    "train = train.loc[train['rec_processing_time'] < 60]\n",
    "\n",
    "# Click through rate should only be between 0 and 1\n",
    "train = train.loc[train['ctr'] <= 1]"
   ]
  },
  {
   "cell_type": "code",
   "execution_count": 137,
   "metadata": {},
   "outputs": [],
   "source": [
    "nan_fields = ['query_detected_language', 'country_by_ip', 'cbf_parser', 'query_word_count', \n",
    "              'query_char_count', 'recommendation_algorithm_id_used', 'app_version', \n",
    "              'local_hour_of_request', 'item_type', 'app_lang']\n",
    "for col in nan_fields:   \n",
    "    train[col].replace({\n",
    "        '\\\\N': np.nan\n",
    "    }, inplace = True)\n",
    "    \n",
    "    test[col].replace({\n",
    "        '\\\\N': np.nan\n",
    "    }, inplace = True)\n",
    "\n",
    "# train['local_time_of_request'].replace({\n",
    "#     '\\\\N': np.nan\n",
    "# }, inplace = True)"
   ]
  },
  {
   "cell_type": "code",
   "execution_count": 138,
   "metadata": {},
   "outputs": [],
   "source": [
    "train = train.drop(columns = [\n",
    "    'user_id',\n",
    "    'session_id',\n",
    "    \n",
    "    # Following are only to be used for filtering    \n",
    "    'request_received',\n",
    "    'response_delivered',\n",
    "    'rec_processing_time',\n",
    "    'time_recs_recieved',\n",
    "    'time_recs_displayed',\n",
    "    'time_recs_viewed',\n",
    "    \n",
    "    'query_identifier', # 70% are witheld for privacy\n",
    "    'query_document_id', # 70% are \\N\n",
    "    'document_language_provided', # 99% are \\N\n",
    "    'year_published', # 80 % are \\N\n",
    "    'abstract_word_count', # 60 % are \\N\n",
    "    'first_author_id',\n",
    "    'num_pubs_by_first_author',\n",
    "    'number_of_authors',\n",
    "    \n",
    "    'abstract_word_count',\n",
    "    'abstract_char_count',\n",
    "    'abstract_detected_language',\n",
    "    \n",
    "    'user_os', # Mostly empty\n",
    "    'user_os_version',\n",
    "    'user_timezone',\n",
    "    'user_java_version',\n",
    "    \n",
    "    # Only nan in test data\n",
    "    'number_of_recs_in_set',\n",
    "    'number_of_recs_in_set', \n",
    "    'ctr',\n",
    "    'clicks',\n",
    "    \n",
    "    # All of the following columns may be useful but are not easy to process    \n",
    "    'local_time_of_request', # Might be useful but ignoring for now\n",
    "    'timezone_by_ip' # Not comprehensible\n",
    "])\n",
    "\n",
    "test = test.drop(columns = [\n",
    "    'user_id',\n",
    "    'session_id',\n",
    "    \n",
    "    'request_received',\n",
    "    'response_delivered',\n",
    "    'rec_processing_time',\n",
    "    'time_recs_recieved',\n",
    "    'time_recs_displayed',\n",
    "    'time_recs_viewed',\n",
    "    \n",
    "    'query_identifier',\n",
    "    'query_document_id',\n",
    "    'document_language_provided',\n",
    "    'year_published',\n",
    "    'first_author_id',\n",
    "    'num_pubs_by_first_author',\n",
    "    'number_of_authors',\n",
    "    'abstract_word_count',\n",
    "    'abstract_char_count',\n",
    "    'abstract_detected_language',\n",
    "    \n",
    "    'user_os',\n",
    "    'user_os_version', \n",
    "    'user_timezone',\n",
    "    'user_java_version',\n",
    "    \n",
    "    'number_of_recs_in_set', \n",
    "    'ctr',\n",
    "    'clicks',\n",
    "    \n",
    "    'local_time_of_request',\n",
    "    'timezone_by_ip',\n",
    "    'set_clicked' # Not needed in test\n",
    "])"
   ]
  },
  {
   "cell_type": "code",
   "execution_count": 139,
   "metadata": {},
   "outputs": [
    {
     "name": "stdout",
     "output_type": "stream",
     "text": [
      "Numerical features : \n",
      "Index(['recommendation_set_id', 'organization_id', 'hour_request_received',\n",
      "       'set_clicked'],\n",
      "      dtype='object')\n",
      "Categorical features : \n",
      "Index(['query_word_count', 'query_char_count', 'query_detected_language',\n",
      "       'application_type', 'item_type', 'app_version', 'app_lang',\n",
      "       'country_by_ip', 'local_hour_of_request',\n",
      "       'recommendation_algorithm_id_used', 'algorithm_class', 'cbf_parser',\n",
      "       'search_title', 'search_keywords', 'search_abstract'],\n",
      "      dtype='object')\n"
     ]
    }
   ],
   "source": [
    "categorical_features = train.select_dtypes(include = [\"object\"]).columns\n",
    "numerical_features = train.select_dtypes(exclude = [\"object\"]).columns\n",
    "print(\"Numerical features : \")\n",
    "print(numerical_features)\n",
    "print(\"Categorical features : \")\n",
    "print(categorical_features)"
   ]
  },
  {
   "cell_type": "code",
   "execution_count": 140,
   "metadata": {},
   "outputs": [],
   "source": [
    "for cat in categorical_features:\n",
    "    train[cat] = train[cat].fillna(train[cat].value_counts().index[0])\n",
    "    test[cat] = test[cat].fillna(test[cat].value_counts().index[0])"
   ]
  },
  {
   "cell_type": "code",
   "execution_count": 141,
   "metadata": {},
   "outputs": [],
   "source": [
    "# Convert all objects that should actually be ints\n",
    "for col in ['query_word_count', 'query_char_count', 'local_hour_of_request', 'recommendation_algorithm_id_used']:\n",
    "    train[col] = train[col].astype(str).astype(int)\n",
    "    test[col] = test[col].astype(str).astype(int)"
   ]
  },
  {
   "cell_type": "code",
   "execution_count": 142,
   "metadata": {},
   "outputs": [
    {
     "name": "stdout",
     "output_type": "stream",
     "text": [
      "Numerical features : \n",
      "Index(['recommendation_set_id', 'query_word_count', 'query_char_count',\n",
      "       'organization_id', 'hour_request_received', 'local_hour_of_request',\n",
      "       'recommendation_algorithm_id_used', 'set_clicked'],\n",
      "      dtype='object')\n",
      "Categorical features : \n",
      "Index(['query_detected_language', 'application_type', 'item_type',\n",
      "       'app_version', 'app_lang', 'country_by_ip', 'algorithm_class',\n",
      "       'cbf_parser', 'search_title', 'search_keywords', 'search_abstract'],\n",
      "      dtype='object')\n"
     ]
    }
   ],
   "source": [
    "categorical_features = train.select_dtypes(include = [\"object\"]).columns\n",
    "numerical_features = train.select_dtypes(exclude = [\"object\"]).columns\n",
    "print(\"Numerical features : \")\n",
    "print(numerical_features)\n",
    "print(\"Categorical features : \")\n",
    "print(categorical_features)"
   ]
  },
  {
   "cell_type": "code",
   "execution_count": 143,
   "metadata": {},
   "outputs": [],
   "source": [
    "# Converting to boolean\n",
    "bool_cols = ['search_title', 'search_keywords', 'search_abstract']\n",
    "\n",
    "for col in bool_cols:\n",
    "    train[col] = train[col].eq('yes').mul(1)\n",
    "    train[col] = train[col].astype(bool)\n",
    "    \n",
    "    test[col] = test[col].eq('yes').mul(1)\n",
    "    test[col] = test[col].astype(bool)"
   ]
  },
  {
   "cell_type": "code",
   "execution_count": 144,
   "metadata": {},
   "outputs": [],
   "source": [
    "train = train.fillna(train.median())\n",
    "test = test.fillna(test.median())"
   ]
  },
  {
   "cell_type": "code",
   "execution_count": 146,
   "metadata": {},
   "outputs": [],
   "source": [
    "from sklearn.preprocessing import LabelEncoder\n",
    "\n",
    "all_data = pd.concat((train.loc[:, 'query_word_count': 'search_abstract'],\n",
    "                      test.loc[:, 'query_word_count': 'search_abstract']))\n",
    "\n",
    "le = LabelEncoder()\n",
    "\n",
    "cols_to_label_encode = ['query_detected_language', 'application_type', 'item_type', 'app_version', 'app_lang', 'country_by_ip']\n",
    "for col in cols_to_label_encode:\n",
    "    all_data[col] = le.fit_transform(all_data[col])\n",
    "\n",
    "all_data = pd.get_dummies(all_data)"
   ]
  },
  {
   "cell_type": "code",
   "execution_count": 147,
   "metadata": {},
   "outputs": [],
   "source": [
    "from sklearn.model_selection import train_test_split\n",
    "\n",
    "final_test = all_data[train.shape[0]:]\n",
    "\n",
    "X = all_data[:train.shape[0]]\n",
    "y = train['set_clicked'].astype(bool)\n",
    "\n",
    "X_train, X_test, y_train, y_test = train_test_split(X, y, test_size = 0.2, random_state = 0)"
   ]
  },
  {
   "cell_type": "code",
   "execution_count": 148,
   "metadata": {},
   "outputs": [
    {
     "data": {
      "text/html": [
       "<div>\n",
       "<style scoped>\n",
       "    .dataframe tbody tr th:only-of-type {\n",
       "        vertical-align: middle;\n",
       "    }\n",
       "\n",
       "    .dataframe tbody tr th {\n",
       "        vertical-align: top;\n",
       "    }\n",
       "\n",
       "    .dataframe thead th {\n",
       "        text-align: right;\n",
       "    }\n",
       "</style>\n",
       "<table border=\"1\" class=\"dataframe\">\n",
       "  <thead>\n",
       "    <tr style=\"text-align: right;\">\n",
       "      <th></th>\n",
       "      <th>query_word_count</th>\n",
       "      <th>query_char_count</th>\n",
       "      <th>query_detected_language</th>\n",
       "      <th>organization_id</th>\n",
       "      <th>application_type</th>\n",
       "      <th>item_type</th>\n",
       "      <th>hour_request_received</th>\n",
       "      <th>app_version</th>\n",
       "      <th>app_lang</th>\n",
       "      <th>country_by_ip</th>\n",
       "      <th>...</th>\n",
       "      <th>search_abstract</th>\n",
       "      <th>algorithm_class_content_based_filtering</th>\n",
       "      <th>algorithm_class_random</th>\n",
       "      <th>algorithm_class_same_author</th>\n",
       "      <th>algorithm_class_sentence_embeddings</th>\n",
       "      <th>algorithm_class_stereotype</th>\n",
       "      <th>algorithm_class_unknown</th>\n",
       "      <th>cbf_parser_edismax_QP</th>\n",
       "      <th>cbf_parser_mlt_QP</th>\n",
       "      <th>cbf_parser_standard_QP</th>\n",
       "    </tr>\n",
       "  </thead>\n",
       "  <tbody>\n",
       "    <tr>\n",
       "      <th>301643</th>\n",
       "      <td>8</td>\n",
       "      <td>57</td>\n",
       "      <td>8</td>\n",
       "      <td>4.0</td>\n",
       "      <td>3</td>\n",
       "      <td>6</td>\n",
       "      <td>4.0</td>\n",
       "      <td>50</td>\n",
       "      <td>3</td>\n",
       "      <td>175</td>\n",
       "      <td>...</td>\n",
       "      <td>False</td>\n",
       "      <td>0</td>\n",
       "      <td>0</td>\n",
       "      <td>0</td>\n",
       "      <td>1</td>\n",
       "      <td>0</td>\n",
       "      <td>0</td>\n",
       "      <td>1</td>\n",
       "      <td>0</td>\n",
       "      <td>0</td>\n",
       "    </tr>\n",
       "    <tr>\n",
       "      <th>247923</th>\n",
       "      <td>3</td>\n",
       "      <td>31</td>\n",
       "      <td>6</td>\n",
       "      <td>1.0</td>\n",
       "      <td>2</td>\n",
       "      <td>10</td>\n",
       "      <td>17.0</td>\n",
       "      <td>50</td>\n",
       "      <td>3</td>\n",
       "      <td>8</td>\n",
       "      <td>...</td>\n",
       "      <td>False</td>\n",
       "      <td>0</td>\n",
       "      <td>0</td>\n",
       "      <td>0</td>\n",
       "      <td>1</td>\n",
       "      <td>0</td>\n",
       "      <td>0</td>\n",
       "      <td>1</td>\n",
       "      <td>0</td>\n",
       "      <td>0</td>\n",
       "    </tr>\n",
       "    <tr>\n",
       "      <th>384552</th>\n",
       "      <td>12</td>\n",
       "      <td>83</td>\n",
       "      <td>8</td>\n",
       "      <td>4.0</td>\n",
       "      <td>3</td>\n",
       "      <td>6</td>\n",
       "      <td>21.0</td>\n",
       "      <td>50</td>\n",
       "      <td>3</td>\n",
       "      <td>175</td>\n",
       "      <td>...</td>\n",
       "      <td>True</td>\n",
       "      <td>1</td>\n",
       "      <td>0</td>\n",
       "      <td>0</td>\n",
       "      <td>0</td>\n",
       "      <td>0</td>\n",
       "      <td>0</td>\n",
       "      <td>1</td>\n",
       "      <td>0</td>\n",
       "      <td>0</td>\n",
       "    </tr>\n",
       "    <tr>\n",
       "      <th>47278</th>\n",
       "      <td>4</td>\n",
       "      <td>25</td>\n",
       "      <td>6</td>\n",
       "      <td>1.0</td>\n",
       "      <td>2</td>\n",
       "      <td>10</td>\n",
       "      <td>11.0</td>\n",
       "      <td>50</td>\n",
       "      <td>1</td>\n",
       "      <td>42</td>\n",
       "      <td>...</td>\n",
       "      <td>True</td>\n",
       "      <td>1</td>\n",
       "      <td>0</td>\n",
       "      <td>0</td>\n",
       "      <td>0</td>\n",
       "      <td>0</td>\n",
       "      <td>0</td>\n",
       "      <td>1</td>\n",
       "      <td>0</td>\n",
       "      <td>0</td>\n",
       "    </tr>\n",
       "    <tr>\n",
       "      <th>194944</th>\n",
       "      <td>12</td>\n",
       "      <td>68</td>\n",
       "      <td>8</td>\n",
       "      <td>4.0</td>\n",
       "      <td>3</td>\n",
       "      <td>10</td>\n",
       "      <td>6.0</td>\n",
       "      <td>50</td>\n",
       "      <td>3</td>\n",
       "      <td>42</td>\n",
       "      <td>...</td>\n",
       "      <td>False</td>\n",
       "      <td>1</td>\n",
       "      <td>0</td>\n",
       "      <td>0</td>\n",
       "      <td>0</td>\n",
       "      <td>0</td>\n",
       "      <td>0</td>\n",
       "      <td>1</td>\n",
       "      <td>0</td>\n",
       "      <td>0</td>\n",
       "    </tr>\n",
       "  </tbody>\n",
       "</table>\n",
       "<p>5 rows × 24 columns</p>\n",
       "</div>"
      ],
      "text/plain": [
       "        query_word_count  query_char_count  query_detected_language  \\\n",
       "301643                 8                57                        8   \n",
       "247923                 3                31                        6   \n",
       "384552                12                83                        8   \n",
       "47278                  4                25                        6   \n",
       "194944                12                68                        8   \n",
       "\n",
       "        organization_id  application_type  item_type  hour_request_received  \\\n",
       "301643              4.0                 3          6                    4.0   \n",
       "247923              1.0                 2         10                   17.0   \n",
       "384552              4.0                 3          6                   21.0   \n",
       "47278               1.0                 2         10                   11.0   \n",
       "194944              4.0                 3         10                    6.0   \n",
       "\n",
       "        app_version  app_lang  country_by_ip  ...  search_abstract  \\\n",
       "301643           50         3            175  ...            False   \n",
       "247923           50         3              8  ...            False   \n",
       "384552           50         3            175  ...             True   \n",
       "47278            50         1             42  ...             True   \n",
       "194944           50         3             42  ...            False   \n",
       "\n",
       "        algorithm_class_content_based_filtering  algorithm_class_random  \\\n",
       "301643                                        0                       0   \n",
       "247923                                        0                       0   \n",
       "384552                                        1                       0   \n",
       "47278                                         1                       0   \n",
       "194944                                        1                       0   \n",
       "\n",
       "        algorithm_class_same_author  algorithm_class_sentence_embeddings  \\\n",
       "301643                            0                                    1   \n",
       "247923                            0                                    1   \n",
       "384552                            0                                    0   \n",
       "47278                             0                                    0   \n",
       "194944                            0                                    0   \n",
       "\n",
       "        algorithm_class_stereotype  algorithm_class_unknown  \\\n",
       "301643                           0                        0   \n",
       "247923                           0                        0   \n",
       "384552                           0                        0   \n",
       "47278                            0                        0   \n",
       "194944                           0                        0   \n",
       "\n",
       "        cbf_parser_edismax_QP  cbf_parser_mlt_QP  cbf_parser_standard_QP  \n",
       "301643                      1                  0                       0  \n",
       "247923                      1                  0                       0  \n",
       "384552                      1                  0                       0  \n",
       "47278                       1                  0                       0  \n",
       "194944                      1                  0                       0  \n",
       "\n",
       "[5 rows x 24 columns]"
      ]
     },
     "execution_count": 148,
     "metadata": {},
     "output_type": "execute_result"
    }
   ],
   "source": [
    "X_train.head()"
   ]
  },
  {
   "cell_type": "markdown",
   "metadata": {},
   "source": [
    "## Making a simple RandomForest Classifier"
   ]
  },
  {
   "cell_type": "code",
   "execution_count": 149,
   "metadata": {},
   "outputs": [
    {
     "name": "stderr",
     "output_type": "stream",
     "text": [
      "C:\\ProgramData\\Anaconda3\\lib\\site-packages\\sklearn\\ensemble\\forest.py:245: FutureWarning: The default value of n_estimators will change from 10 in version 0.20 to 100 in 0.22.\n",
      "  \"10 in version 0.20 to 100 in 0.22.\", FutureWarning)\n"
     ]
    },
    {
     "data": {
      "text/plain": [
       "0.9936"
      ]
     },
     "execution_count": 149,
     "metadata": {},
     "output_type": "execute_result"
    }
   ],
   "source": [
    "import sklearn as sk\n",
    "from sklearn.ensemble import RandomForestClassifier\n",
    "\n",
    "RF = RandomForestClassifier()\n",
    "RF.fit(X_train, y_train)\n",
    "round(RF.score(X_train, y_train), 4)"
   ]
  },
  {
   "cell_type": "code",
   "execution_count": 150,
   "metadata": {},
   "outputs": [
    {
     "data": {
      "text/plain": [
       "array([1.48563801e-01, 3.30484623e-01, 4.03508286e-02, 1.42558276e-03,\n",
       "       2.00721717e-03, 1.40236247e-02, 1.52676830e-01, 1.05002422e-02,\n",
       "       1.50389748e-02, 1.17761410e-01, 1.18028993e-01, 2.27642091e-02,\n",
       "       1.20970101e-03, 7.26403460e-03, 5.92451802e-03, 1.14929221e-03,\n",
       "       7.40360424e-05, 2.42152738e-04, 1.42885483e-03, 5.65354310e-04,\n",
       "       9.20436323e-04, 2.44792236e-03, 1.89766625e-03, 3.24969453e-03])"
      ]
     },
     "execution_count": 150,
     "metadata": {},
     "output_type": "execute_result"
    }
   ],
   "source": [
    "RF.feature_importances_"
   ]
  },
  {
   "cell_type": "code",
   "execution_count": 151,
   "metadata": {},
   "outputs": [
    {
     "data": {
      "text/plain": [
       "0.9805385921920987"
      ]
     },
     "execution_count": 151,
     "metadata": {},
     "output_type": "execute_result"
    }
   ],
   "source": [
    "from sklearn.metrics import accuracy_score\n",
    "\n",
    "predicted_labels = RF.predict(X_test)\n",
    "accuracy_score(y_test, predicted_labels)"
   ]
  },
  {
   "cell_type": "code",
   "execution_count": 156,
   "metadata": {},
   "outputs": [],
   "source": [
    "prediction = RF.predict(final_test)\n",
    "submission = pd.read_csv('../input/tcd-ml-comp-201920-rec-alg-click-pred-group/tcdml1920-rec-click-pred--submission file.csv')\n",
    "submission['set_clicked'] = prediction.astype(int)"
   ]
  },
  {
   "cell_type": "code",
   "execution_count": 158,
   "metadata": {},
   "outputs": [
    {
     "data": {
      "text/plain": [
       "0    9105\n",
       "1      40\n",
       "Name: set_clicked, dtype: int64"
      ]
     },
     "execution_count": 158,
     "metadata": {},
     "output_type": "execute_result"
    }
   ],
   "source": [
    "submission['set_clicked'].value_counts()"
   ]
  },
  {
   "cell_type": "code",
   "execution_count": 160,
   "metadata": {},
   "outputs": [],
   "source": [
    "submission.to_csv('rfc_sol.csv', index = False)"
   ]
  },
  {
   "cell_type": "code",
   "execution_count": null,
   "metadata": {},
   "outputs": [],
   "source": []
  }
 ],
 "metadata": {
  "kernelspec": {
   "display_name": "Python 3",
   "language": "python",
   "name": "python3"
  },
  "language_info": {
   "codemirror_mode": {
    "name": "ipython",
    "version": 3
   },
   "file_extension": ".py",
   "mimetype": "text/x-python",
   "name": "python",
   "nbconvert_exporter": "python",
   "pygments_lexer": "ipython3",
   "version": "3.7.3"
  }
 },
 "nbformat": 4,
 "nbformat_minor": 2
}
